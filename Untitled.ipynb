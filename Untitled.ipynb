{
 "cells": [
  {
   "cell_type": "markdown",
   "metadata": {},
   "source": [
    "# Exam Project: The formation of ISIS' Social Media Network"
   ]
  },
  {
   "cell_type": "markdown",
   "metadata": {},
   "source": [
    "Group members: Zeyu Zhao, Helge Zille, Edith Zink, Sina Smid"
   ]
  },
  {
   "cell_type": "markdown",
   "metadata": {},
   "source": [
    "# Descriptive Analysis"
   ]
  },
  {
   "cell_type": "code",
   "execution_count": 2,
   "metadata": {},
   "outputs": [],
   "source": [
    "import os\n",
    "import requests\n",
    "import re\n",
    "import networkx as nx\n",
    "from networkx.drawing.nx_agraph import graphviz_layout\n",
    "import numpy as np\n",
    "import pandas as pd\n",
    "import seaborn as sns\n",
    "import matplotlib.pyplot as plt\n",
    "%matplotlib inline\n",
    "from collections import Counter\n",
    "plt.style.use('ggplot')"
   ]
  },
  {
   "cell_type": "code",
   "execution_count": 3,
   "metadata": {},
   "outputs": [],
   "source": [
    "data = pd.read_csv('tweets_1.csv')"
   ]
  },
  {
   "cell_type": "code",
   "execution_count": 4,
   "metadata": {
    "scrolled": true
   },
   "outputs": [
    {
     "name": "stdout",
     "output_type": "stream",
     "text": [
      "Unique tweets: 17410\n",
      "All tweets: 17410\n"
     ]
    },
    {
     "data": {
      "text/plain": [
       "[Text(0, 0, 'Actual Tweets'), Text(0, 0, 'Retweets')]"
      ]
     },
     "execution_count": 4,
     "metadata": {},
     "output_type": "execute_result"
    },
    {
     "data": {
      "image/png": "[encoded data removed]",
      "text/plain": [
       "<Figure size 432x288 with 1 Axes>"
      ]
     },
     "metadata": {
      "needs_background": "light"
     },
     "output_type": "display_data"
    }
   ],
   "source": [
    "# How many of the tweets are actually re-tweets?\n",
    "print(\"Unique tweets: {}\".format(len(data['tweets'].unique())))\n",
    "print(\"All tweets: {}\".format(len(data['tweets'])))\n",
    "\n",
    "retweets = []\n",
    "actual_tweets = []\n",
    "for user, tweet in zip(data['username'], data['tweets']):\n",
    "    match = re.search(r'^\\bRT\\b', tweet)\n",
    "    if match == None:\n",
    "        actual_tweets.append([user,tweet])\n",
    "    else:\n",
    "        retweets.append([user,tweet])   \n",
    "\n",
    "actual_tweets = np.array(actual_tweets)\n",
    "retweets = np.array(retweets)\n",
    "\n",
    "plt.bar([1,2], [len(actual_tweets[:,1]), len(retweets[:,1])], align='center')\n",
    "ax = plt.gca()\n",
    "ax.set_xticks([1,2])\n",
    "ax.set_xticklabels(['Actual Tweets', 'Retweets'])"
   ]
  },
  {
   "cell_type": "code",
   "execution_count": 5,
   "metadata": {
    "scrolled": true
   },
   "outputs": [
    {
     "data": {
      "text/plain": [
       "Text(0.5, 1.0, 'Mentioned vs. Total in tweets.csv')"
      ]
     },
     "execution_count": 5,
     "metadata": {},
     "output_type": "execute_result"
    },
    {
     "data": {
      "image/png": "[encoded data removed]",
      "text/plain": [
       "<Figure size 432x288 with 2 Axes>"
      ]
     },
     "metadata": {
      "needs_background": "light"
     },
     "output_type": "display_data"
    }
   ],
   "source": [
    "# How many users have been mentioned by other users?\n",
    "in_set = []\n",
    "not_in_set = []\n",
    "for record in actual_tweets:\n",
    "    match = re.findall(r'@\\w*', record[1])\n",
    "    if match != []:\n",
    "        for name in match:\n",
    "            if (name[1:] in data['username'].unique()) and (record[0] != name[1:]):\n",
    "                in_set.append([record[0], name[1:]])\n",
    "            elif record[0] != name[1:]:\n",
    "                not_in_set.append([record[0], name[1:]])\n",
    "\n",
    "in_set = np.array(in_set)\n",
    "not_in_set = np.array(not_in_set)\n",
    "\n",
    "fig, ax = plt.subplots(1,2)\n",
    "\n",
    "ax[0].bar([1,2], [len(np.unique(in_set[:,1])), len(np.unique(not_in_set[:,1]))], align='center')\n",
    "ax[0].set_xticks([1,2])\n",
    "ax[0].set_xticklabels(['In', 'Not in'])\n",
    "ax[0].set_title('Users in vs. not in tweets.csv', fontsize=9)\n",
    "\n",
    "ax[1].bar([1,2], [len(np.unique(in_set[:,1])), len(data['username'].unique())], align='center')\n",
    "ax[1].set_xticks([1,2])\n",
    "ax[1].set_xticklabels(['Mentioned', 'Total'])\n",
    "ax[1].set_title('Mentioned vs. Total in tweets.csv', fontsize=9)\n",
    "\n",
    "\n",
    "# majority of users mentioned are outside the scope of the dataset.\n",
    "# ca. 40 out of 110 users are mentioned within the dataset.\n",
    "# only use mentioned usernames where users are not mentioning themselves."
   ]
  },
  {
   "cell_type": "code",
   "execution_count": 6,
   "metadata": {},
   "outputs": [
    {
     "name": "stdout",
     "output_type": "stream",
     "text": [
      "[('MaghrabiArabi', 49), ('WarReporter1', 30), ('AsimAbuMerjem', 27), ('Uncle_SamCoco', 27), ('moustiklash', 20)]\n",
      "[('RamiAlLolah', 53), ('Nidalgazaui', 34), ('MilkSheikh2', 26), ('WarReporter1', 15), ('_IshfaqAhmad', 15)]\n",
      "Username: RamiAlLolah - Real-Time News, Exclusives, Intelligence & Classified Information/Reports from the ME. Forecasted many Israeli strikes in Syria/Lebanon. Graphic content.\n",
      "\n",
      "Username: Nidalgazaui - 17yr. old Freedom Activist\n",
      "/Correspondence of NGNA /Terror Expert/Middle East Expert. Daily News about Syria/Iraq/Yemen/Russia/Middle East\n",
      "\n",
      "Username: MilkSheikh2 - Muslim, Iraqi, Banu Zubid, Qahtani, Chef, Engineer, Remaining until the best of them, fights al-Dajjal, Translate Old stuff mostly\n",
      "\n",
      "Username: WarReporter1 - Reporting on conflicts in the MENA and Asia regions.\n",
      "\n",
      "Username: _IshfaqAhmad - Medico at GMC Srinagar • Pro-Khilafah • Anti-Democratic • Anti-Nationalistic • Anti-Rafidah • Innocent Bystander of the Conflict in Middle East • Cricketist •\n",
      "\n"
     ]
    }
   ],
   "source": [
    "# Map the most influential/ most mentioned users\n",
    "sender_count = Counter(in_set[:,0])\n",
    "receiver_count = Counter(in_set[:,1])\n",
    "top_5_senders = sender_count.most_common(5)\n",
    "top_5_receivers = receiver_count.most_common(5)\n",
    "\n",
    "print(top_5_senders)\n",
    "print(top_5_receivers)\n",
    "\n",
    "# Manybe for the senders we could include self-mentioning?\n",
    "\n",
    "# And who are these top 5?\n",
    "for name, _ in top_5_receivers:\n",
    "    print(\"Username: {} - {}\\n\".format(name,\n",
    "            data[data['username'] == name]['description'].dropna().unique()[0]))"
   ]
  },
  {
   "cell_type": "code",
   "execution_count": 11,
   "metadata": {},
   "outputs": [
    {
     "ename": "TypeError",
     "evalue": "fruchterman_reingold_layout() got an unexpected keyword argument 'iteration'",
     "output_type": "error",
     "traceback": [
      "\u001b[1;31m---------------------------------------------------------------------------\u001b[0m",
      "\u001b[1;31mTypeError\u001b[0m                                 Traceback (most recent call last)",
      "\u001b[1;32m<ipython-input-11-37d4226113ae>\u001b[0m in \u001b[0;36m<module>\u001b[1;34m\u001b[0m\n\u001b[0;32m     38\u001b[0m \u001b[1;33m\u001b[0m\u001b[0m\n\u001b[0;32m     39\u001b[0m \u001b[0mplt\u001b[0m\u001b[1;33m.\u001b[0m\u001b[0mfigure\u001b[0m\u001b[1;33m(\u001b[0m\u001b[0mfigsize\u001b[0m\u001b[1;33m=\u001b[0m\u001b[1;33m(\u001b[0m\u001b[1;36m12\u001b[0m\u001b[1;33m,\u001b[0m\u001b[1;36m12\u001b[0m\u001b[1;33m)\u001b[0m\u001b[1;33m)\u001b[0m\u001b[1;33m\u001b[0m\u001b[1;33m\u001b[0m\u001b[0m\n\u001b[1;32m---> 40\u001b[1;33m \u001b[0mnx\u001b[0m\u001b[1;33m.\u001b[0m\u001b[0mdraw\u001b[0m\u001b[1;33m(\u001b[0m\u001b[0mgraph\u001b[0m\u001b[1;33m,\u001b[0m \u001b[0mpos\u001b[0m\u001b[1;33m=\u001b[0m\u001b[0mnx\u001b[0m\u001b[1;33m.\u001b[0m\u001b[0mspring_layout\u001b[0m\u001b[1;33m(\u001b[0m\u001b[0mgraph\u001b[0m\u001b[1;33m,\u001b[0m \u001b[0mk\u001b[0m\u001b[1;33m=\u001b[0m\u001b[1;36m0.15\u001b[0m\u001b[1;33m,\u001b[0m\u001b[0mscale\u001b[0m\u001b[1;33m=\u001b[0m\u001b[1;36m2\u001b[0m\u001b[1;33m,\u001b[0m\u001b[0miteration\u001b[0m\u001b[1;33m=\u001b[0m\u001b[1;36m20\u001b[0m\u001b[1;33m)\u001b[0m\u001b[1;33m,\u001b[0m \u001b[0mnode_color\u001b[0m\u001b[1;33m=\u001b[0m\u001b[0mnode_colours\u001b[0m\u001b[1;33m,\u001b[0m \u001b[0mnode_size\u001b[0m\u001b[1;33m=\u001b[0m\u001b[0msizes\u001b[0m\u001b[1;33m,\u001b[0m \u001b[0mwith_labels\u001b[0m\u001b[1;33m=\u001b[0m\u001b[1;32mTrue\u001b[0m\u001b[1;33m,\u001b[0m \u001b[0mwidth\u001b[0m\u001b[1;33m=\u001b[0m\u001b[0mweights\u001b[0m\u001b[1;33m)\u001b[0m\u001b[1;33m\u001b[0m\u001b[1;33m\u001b[0m\u001b[0m\n\u001b[0m\u001b[0;32m     41\u001b[0m \u001b[0mplt\u001b[0m\u001b[1;33m.\u001b[0m\u001b[0mshow\u001b[0m\u001b[1;33m(\u001b[0m\u001b[1;33m)\u001b[0m\u001b[1;33m\u001b[0m\u001b[1;33m\u001b[0m\u001b[0m\n",
      "\u001b[1;31mTypeError\u001b[0m: fruchterman_reingold_layout() got an unexpected keyword argument 'iteration'"
     ]
    },
    {
     "data": {
      "text/plain": [
       "<Figure size 864x864 with 0 Axes>"
      ]
     },
     "metadata": {},
     "output_type": "display_data"
    }
   ],
   "source": [
    "# Network based on metioning each other:\n",
    "graph = nx.Graph()\n",
    "\n",
    "all_users = list(set(in_set[:,0]) | set(in_set[:,1]))\n",
    "graph.add_nodes_from(all_users, count=10)\n",
    "node_colours = []\n",
    "\n",
    "# Generate 3 categories of nodes: only senders, only receivers, senders and receivers\n",
    "for node in graph.nodes():\n",
    "    if node in (set(in_set[:,0]) & set(in_set[:,1])):\n",
    "        node_colours.append('g')\n",
    "    elif node in np.unique(in_set[:,0]):\n",
    "        node_colours.append('r')\n",
    "    elif node in np.unique(in_set[:,1]):\n",
    "        node_colours.append('b')\n",
    "\n",
    "# Build weighted edges between users in the graph\n",
    "edges = {}\n",
    "occurrence_count = Counter(map(tuple, in_set))\n",
    "for (sender, receiver), count in occurrence_count.items():\n",
    "    if (receiver, sender) in edges.keys():\n",
    "        edges[(receiver, sender)] = edges[(receiver, sender)] + count\n",
    "    else:\n",
    "        edges[(sender, receiver)] = count\n",
    "        \n",
    "for (sender, receiver), count in edges.items():\n",
    "    graph.add_edge(sender, receiver, weight=count)\n",
    "    \n",
    "followers = {}\n",
    "tweet_num = {}\n",
    "for username in all_users:\n",
    "    followers[username] = data[data['username'] == username]['followers'].unique()[-1]\n",
    "    tweet_num[username] = data[data['username'] == username]['tweets'].count()\n",
    "\n",
    "sizes = [(followers[n] / tweet_num[n]) * 50 for n in graph.nodes()]\n",
    "weights = [graph[u][v]['weight']/2 for u, v in graph.edges()]\n",
    "\n",
    "\n",
    "plt.figure(figsize=(12,12))\n",
    "nx.draw(graph, pos=nx.spring_layout(graph, k=0.15,scale=2,iteration=20), node_color=node_colours, node_size=sizes, with_labels=True, width=weights)\n",
    "plt.show()"
   ]
  }
 ],
 "metadata": {
  "kernelspec": {
   "display_name": "Python 3",
   "language": "python",
   "name": "python3"
  },
  "language_info": {
   "codemirror_mode": {
    "name": "ipython",
    "version": 3
   },
   "file_extension": ".py",
   "mimetype": "text/x-python",
   "name": "python",
   "nbconvert_exporter": "python",
   "pygments_lexer": "ipython3",
   "version": "3.7.1"
  }
 },
 "nbformat": 4,
 "nbformat_minor": 2
}
