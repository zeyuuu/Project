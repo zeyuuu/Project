{
 "cells": [
  {
   "cell_type": "markdown",
   "metadata": {},
   "source": [
    "# Exam Project: The formation of ISIS' Social Media Network\n",
    "Group members: Zeyu Zhao, Helge Zille, Edith Zink, Sina Smid\n",
    "# Sentiment Analysis and Classification"
   ]
  },
  {
   "cell_type": "code",
   "execution_count": 1,
   "metadata": {},
   "outputs": [
    {
     "name": "stderr",
     "output_type": "stream",
     "text": [
      "[nltk_data] Downloading package wordnet to\n",
      "[nltk_data]     C:\\Users\\tdb973\\AppData\\Roaming\\nltk_data...\n",
      "[nltk_data]   Package wordnet is already up-to-date!\n",
      "C:\\ProgramData\\Anaconda3\\lib\\site-packages\\gensim\\utils.py:1197: UserWarning: detected Windows; aliasing chunkize to chunkize_serial\n",
      "  warnings.warn(\"detected Windows; aliasing chunkize to chunkize_serial\")\n"
     ]
    }
   ],
   "source": [
    "import numpy as np\n",
    "import pandas as pd\n",
    "import seaborn as sns\n",
    "from collections import Counter\n",
    "\n",
    "from our_functions import *\n",
    "\n",
    "import matplotlib.pyplot as plt\n",
    "%matplotlib inline\n",
    "plt.style.use('ggplot') # makes the bar charts red on grey background with grid, I think it is nice\n",
    "default_red = plt.rcParams['axes.prop_cycle'].by_key()['color'][0]\n",
    "\n",
    "import warnings\n",
    "warnings.filterwarnings(\"ignore\",category=DeprecationWarning)"
   ]
  },
  {
   "cell_type": "code",
   "execution_count": null,
   "metadata": {
    "scrolled": true
   },
   "outputs": [
    {
     "name": "stdout",
     "output_type": "stream",
     "text": [
      "['#E24A33', '#348ABD', '#988ED5', '#777777', '#FBC15E', '#8EBA42', '#FFB5B8']\n"
     ]
    }
   ],
   "source": [
    "%run ./cleaning_18052019.ipynb"
   ]
  },
  {
   "cell_type": "code",
   "execution_count": null,
   "metadata": {},
   "outputs": [],
   "source": [
    "from vaderSentiment.vaderSentiment import SentimentIntensityAnalyzer\n",
    "\n",
    "analyser = SentimentIntensityAnalyzer()\n",
    "\n",
    "def sentiment_scores(sentence):\n",
    "    return analyser.polarity_scores(sentence)\n",
    "\n",
    "df['vader_sentiment'] = df['tweets_unedit'].apply(sentiment_scores)"
   ]
  },
  {
   "cell_type": "code",
   "execution_count": null,
   "metadata": {},
   "outputs": [],
   "source": [
    "df = df.assign(vader_neg=df.vader_sentiment.apply(pd.Series)['neg'].values)\n",
    "df = df.assign(vader_pos=df.vader_sentiment.apply(pd.Series)['pos'].values)\n",
    "df = df.assign(vader_neu=df.vader_sentiment.apply(pd.Series)['neu'].values)\n",
    "df = df.assign(vader_polarity=df.vader_sentiment.apply(pd.Series)['compound'].values)"
   ]
  },
  {
   "cell_type": "code",
   "execution_count": null,
   "metadata": {},
   "outputs": [],
   "source": [
    "sub = df[['vader_pos', 'vader_neg', 'vader_neu', 'vader_polarity', 'date']].groupby(['date']).mean().reset_index()\n",
    "sub.set_index('date', inplace=True)\n",
    "\n",
    "fig = plot_periods(sub['vader_pos'], sub['vader_neg'])\n",
    "fig.legend(labels=[\"Positive\", \"Negative\"], loc = \"upper right\", title=\"Legend\")"
   ]
  },
  {
   "cell_type": "code",
   "execution_count": null,
   "metadata": {},
   "outputs": [],
   "source": [
    "from textblob import TextBlob\n",
    "def get_polarity(s):\n",
    "     return TextBlob(s).sentiment.polarity\n",
    "    \n",
    "def get_subjectivity(s):\n",
    "    return TextBlob(s).sentiment.subjectivity\n",
    "\n",
    "# Unedited tweets  --- results are the same when using preprocessed tweets.\n",
    "df['polarity'] = df['tweets_unedit'].apply(get_polarity)\n",
    "df['subjectivity'] = df['tweets_unedit'].apply(get_subjectivity)"
   ]
  },
  {
   "cell_type": "code",
   "execution_count": null,
   "metadata": {
    "scrolled": true
   },
   "outputs": [],
   "source": [
    "sub = df[['polarity','subjectivity','date']].groupby(['date']).mean().reset_index()\n",
    "sub.set_index('date', inplace = True)"
   ]
  },
  {
   "cell_type": "code",
   "execution_count": null,
   "metadata": {},
   "outputs": [],
   "source": [
    "fig = plot_periods(sub['polarity'],sub['subjectivity'])\n",
    "fig.legend(labels=[\"Polarity\", \"Subjectivity\"], loc = \"upper right\", title=\"Legend\")\n",
    "plt.savefig('figures_exam_project/polarity_subjectivity_timestamp.png')\n"
   ]
  },
  {
   "cell_type": "code",
   "execution_count": null,
   "metadata": {},
   "outputs": [],
   "source": [
    "# Sentiments by top 10 users\n",
    "# Define Top 10 users\n",
    "top10_users = df[df.username.isin(df.username.value_counts()[:10].keys().tolist())]\n",
    "\n",
    "# Make graph\n",
    "pd.crosstab(top10_users.username, top10_users.polarity).plot.bar(stacked=True, figsize=(16, 10), colormap=\"coolwarm\")\n",
    "plt.legend().set_visible(False)\n",
    "plt.title(\"Polarity of Top 10 Users\")\n",
    "plt.savefig('figures_exam_project/polarity_top10.png')"
   ]
  },
  {
   "cell_type": "markdown",
   "metadata": {},
   "source": [
    "# Text classification"
   ]
  }
 ],
 "metadata": {
  "kernelspec": {
   "display_name": "Python 3",
   "language": "python",
   "name": "python3"
  },
  "language_info": {
   "codemirror_mode": {
    "name": "ipython",
    "version": 3
   },
   "file_extension": ".py",
   "mimetype": "text/x-python",
   "name": "python",
   "nbconvert_exporter": "python",
   "pygments_lexer": "ipython3",
   "version": "3.7.1"
  }
 },
 "nbformat": 4,
 "nbformat_minor": 2
}
