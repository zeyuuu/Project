{
 "cells": [
  {
   "cell_type": "code",
   "execution_count": 1,
   "metadata": {},
   "outputs": [
    {
     "name": "stderr",
     "output_type": "stream",
     "text": [
      "[nltk_data] Downloading package stopwords to\n",
      "[nltk_data]     C:\\Users\\xjs356\\AppData\\Roaming\\nltk_data...\n",
      "[nltk_data]   Package stopwords is already up-to-date!\n",
      "[nltk_data] Downloading package wordnet to\n",
      "[nltk_data]     C:\\Users\\xjs356\\AppData\\Roaming\\nltk_data...\n",
      "[nltk_data]   Package wordnet is already up-to-date!\n",
      "C:\\ProgramData\\Anaconda3\\lib\\site-packages\\gensim\\utils.py:1197: UserWarning: detected Windows; aliasing chunkize to chunkize_serial\n",
      "  warnings.warn(\"detected Windows; aliasing chunkize to chunkize_serial\")\n",
      "C:\\ProgramData\\Anaconda3\\lib\\site-packages\\past\\types\\oldstr.py:33: DeprecationWarning: invalid escape sequence \\d\n",
      "  \"\"\"\n"
     ]
    }
   ],
   "source": [
    "import os\n",
    "import requests\n",
    "import re\n",
    "import networkx as nx\n",
    "from networkx.drawing.nx_agraph import graphviz_layout\n",
    "import numpy as np\n",
    "import pandas as pd\n",
    "import seaborn as sns\n",
    "import matplotlib.pyplot as plt\n",
    "%matplotlib inline\n",
    "from matplotlib import style\n",
    "from collections import Counter\n",
    "plt.style.use('ggplot')\n",
    "import datetime\n",
    "import wordcloud\n",
    "from wordcloud import WordCloud\n",
    "from sklearn.pipeline import Pipeline\n",
    "from sklearn.model_selection import train_test_split\n",
    "from sklearn.metrics import classification_report, confusion_matrix, accuracy_score\n",
    "from sklearn.naive_bayes import MultinomialNB\n",
    "from sklearn.model_selection import KFold, cross_val_score\n",
    "from sklearn.ensemble import RandomForestClassifier\n",
    "from sklearn.feature_extraction.text import CountVectorizer\n",
    "from sklearn.feature_extraction.text import TfidfTransformer\n",
    "from sklearn.feature_extraction.text import TfidfVectorizer\n",
    "from sklearn.model_selection import GridSearchCV\n",
    "from sklearn.externals import joblib\n",
    "from sklearn.decomposition import NMF\n",
    "# NLTK \n",
    "import nltk\n",
    "from nltk.corpus import stopwords\n",
    "from nltk.stem.porter import PorterStemmer\n",
    "from nltk.stem import WordNetLemmatizer\n",
    "from nltk.tokenize import TweetTokenizer\n",
    "nltk.download('stopwords')\n",
    "nltk.download('wordnet')\n",
    "from nltk.corpus import stopwords\n",
    "from nltk import bigrams \n",
    "# textblob\n",
    "from textblob import TextBlob # pip install -U textblob\n",
    "# LDA with Gensim\n",
    "import gensim\n",
    "from gensim import corpora\n",
    "import pickle\n",
    "import gensim.corpora as corpora\n",
    "from gensim.utils import simple_preprocess\n",
    "from gensim.models import CoherenceModel\n",
    "# Plotting tools\n",
    "# Don't forget: pip install pyLDAvis\n",
    "import pyLDAvis\n",
    "import pyLDAvis.gensim  # don't skip this\n",
    "import matplotlib.pyplot as plt\n",
    "%matplotlib inline\n",
    "# Enable logging for gensim - optional\n",
    "import logging\n",
    "logging.basicConfig(format='%(asctime)s : %(levelname)s : %(message)s', level=logging.ERROR)\n",
    "import warnings\n",
    "warnings.filterwarnings(\"ignore\",category=DeprecationWarning)\n",
    "\n",
    "# Functions\n",
    "from our_functions import *"
   ]
  },
  {
   "cell_type": "code",
   "execution_count": 22,
   "metadata": {},
   "outputs": [],
   "source": [
    "data = read_tweets('tweets_1.csv')"
   ]
  },
  {
   "cell_type": "code",
   "execution_count": 23,
   "metadata": {},
   "outputs": [],
   "source": [
    "# Overview on all tweets (to see what needs to be cleaned):\n",
    "terms_single = set(data['tweets'])"
   ]
  },
  {
   "cell_type": "code",
   "execution_count": 24,
   "metadata": {},
   "outputs": [],
   "source": [
    "# TO-DO What is about the \\n??\n",
    "# How to reasonable delete non-word characters?\n",
    "data['tweets_prepr'] =  data['tweets']\n",
    "\n",
    "# Create a new coloumn for preprocessed tweets\n",
    "def extract_from_to_column(data, regex, from_col, to_col):\n",
    "    data[to_col]=data[from_col].apply(lambda x: \" \".join(regex.findall(x)))\n",
    "    return data\n",
    "\n",
    "def remove_from_body(data,regex):\n",
    "    data['tweets_prepr']=data.tweets_prepr.apply(lambda x: re.sub(regex,'',x))\n",
    "    return data\n",
    "\n",
    "regex1 = re.compile(\"@(\\S+)\")   # tagged users\n",
    "regex2 = re.compile(\"http\\S+\")  # urls\n",
    "regex3 = re.compile(\"ENGLISH TRANS[^:]*:\") # prefix\n",
    "regex4 = re.compile(\"#(\\S+)\") # hashtags\n",
    "regex5 = re.compile(\"RT\\s\") # retweets\n",
    "regex6 = re.compile(\"&amp\\S+\") # remove &amp - code for and\n",
    "regex7 = re.compile(\"[^\\x00-\\x7F]+\") # remove Arabic characters\n",
    "\n",
    "data = extract_from_to_column(data, regex1, 'tweets', 'tags')\n",
    "data = remove_from_body(data, regex1)\n",
    "\n",
    "data = extract_from_to_column(data, regex2, 'tweets', 'links')\n",
    "data = remove_from_body(data, regex2)\n",
    "\n",
    "data = remove_from_body(data, regex3)\n",
    "\n",
    "data = extract_from_to_column(data, regex4, 'tweets', 'hashtag')\n",
    "data = remove_from_body(data, regex4)\n",
    "\n",
    "data = extract_from_to_column(data, regex5, 'tweets', 'retweets')\n",
    "data = remove_from_body(data, regex5)\n",
    "\n",
    "data = remove_from_body(data, regex6)\n",
    "data = remove_from_body(data, regex7)\n",
    "\n",
    "# Remove top 25 words as identified in the cleaning notebook\n",
    "regexw1 = re.compile(\"killed\")\n",
    "regexw2 = re.compile(\"army\")\n",
    "regexw3 = re.compile(\"isi\")\n",
    "regexw4 = re.compile(\"state\")\n",
    "regexw5 = re.compile(\"attack\")\n",
    "regexw6 = re.compile(\"islamic\")\n",
    "regexw9 = re.compile(\"soldier\")\n",
    "regexw7 = re.compile(\"allah\")\n",
    "regexw10= re.compile(\"today\")\n",
    "regexw8 = re.compile(\"near\")\n",
    "regexw12= re.compile(\"force\")\n",
    "regexw13= re.compile(\"muslim\")\n",
    "regexw14= re.compile(\"city\")\n",
    "regexw15= re.compile(\"one\")\n",
    "regexw20= re.compile(\"fighter\")\n",
    "regexw16= re.compile(\"assad\")\n",
    "regexw17= re.compile(\"people\")\n",
    "regexw21= re.compile(\"syrian\")\n",
    "regexw18= re.compile(\"report\")\n",
    "regexw22= re.compile(\"rebel\")\n",
    "regexw19= re.compile(\"abu\")\n",
    "regexw11= re.compile(\"say\")\n",
    "regexw24= re.compile(\"group\")\n",
    "regexw25= re.compile(\"new\")\n",
    "regexw23= re.compile(\"video\")\n",
    "\n",
    "data = remove_from_body(data, regexw1)\n",
    "data = remove_from_body(data, regexw2)\n",
    "data = remove_from_body(data, regexw3)\n",
    "data = remove_from_body(data, regexw4)\n",
    "data = remove_from_body(data, regexw5)\n",
    "data = remove_from_body(data, regexw6)\n",
    "data = remove_from_body(data, regexw7)\n",
    "data = remove_from_body(data, regexw8)\n",
    "data = remove_from_body(data, regexw9)\n",
    "data = remove_from_body(data, regexw10)\n",
    "data = remove_from_body(data, regexw11)\n",
    "data = remove_from_body(data, regexw12)\n",
    "data = remove_from_body(data, regexw13)\n",
    "data = remove_from_body(data, regexw14)\n",
    "data = remove_from_body(data, regexw15)\n",
    "data = remove_from_body(data, regexw16)\n",
    "data = remove_from_body(data, regexw17)\n",
    "data = remove_from_body(data, regexw18)\n",
    "data = remove_from_body(data, regexw19)\n",
    "data = remove_from_body(data, regexw20)\n",
    "data = remove_from_body(data, regexw21)\n",
    "data = remove_from_body(data, regexw22)\n",
    "data = remove_from_body(data, regexw23)\n",
    "data = remove_from_body(data, regexw24)\n",
    "data = remove_from_body(data, regexw25)\n",
    "\n",
    "data.tags = data.tags.str.split()"
   ]
  },
  {
   "cell_type": "code",
   "execution_count": 25,
   "metadata": {},
   "outputs": [],
   "source": [
    "# Do further cleaning as in the cleaning file\n",
    "terms_single = set(data['tweets_prepr'])\n",
    "data['tweets_prepr'] = data['tweets_prepr'].str.replace('[^\\w\\s]','')\n",
    "data['tweets_prepr'][:5].apply(lambda x: str(TextBlob(x).correct()))\n",
    "data['tweets_prepr'] = data['tweets_prepr'].apply(lambda x: ' '.join([word.lower() for word in x.split()]))\n",
    "stop = stopwords.words('english')\n",
    "data['tweets_prepr_stop'] = data['tweets_prepr'].apply(lambda x: ' '.join([word for word in x.split() if word not in (stop)]))\n",
    "data['tweets_prepr_stop'] = data['tweets_prepr_stop'].apply(lambda x: ' '.join([word for word in x.split() if len(word) >= 3]))\n",
    "lmtzr = WordNetLemmatizer()\n",
    "data['tweets_prepr_stop'] = data['tweets_prepr_stop'].apply(lambda x: ' '.join([lmtzr.lemmatize(word) for word in x.split()]))\n",
    "terms_single = set(data['tweets_prepr_stop'])\n"
   ]
  },
  {
   "cell_type": "code",
   "execution_count": 26,
   "metadata": {},
   "outputs": [
    {
     "data": {
      "text/plain": [
       "[('isi', 812),\n",
       " ('islamic', 665),\n",
       " ('allah', 597),\n",
       " ('state', 555),\n",
       " ('assad', 431),\n",
       " ('muslim', 406),\n",
       " ('syrian', 385),\n",
       " ('abu', 362),\n",
       " ('regime', 337),\n",
       " ('like', 319),\n",
       " ('area', 319),\n",
       " ('day', 316),\n",
       " ('civilian', 312),\n",
       " ('syria', 311),\n",
       " ('claim', 311),\n",
       " ('iraqi', 305),\n",
       " ('west', 304),\n",
       " ('dont', 295),\n",
       " ('north', 293),\n",
       " ('militant', 286),\n",
       " ('time', 284),\n",
       " ('airstrikes', 279),\n",
       " ('village', 271),\n",
       " ('fight', 271),\n",
       " ('know', 258)]"
      ]
     },
     "execution_count": 26,
     "metadata": {},
     "output_type": "execute_result"
    }
   ],
   "source": [
    "# get most common words (preprocessed and stop-word removal tweet column)\n",
    "all_words = []\n",
    "for line in list(data['tweets_prepr_stop']):\n",
    "    words = line.split()\n",
    "    for word in words:\n",
    "        all_words.append(word.lower())\n",
    "    \n",
    "    \n",
    "Counter(all_words).most_common(25)"
   ]
  },
  {
   "cell_type": "markdown",
   "metadata": {},
   "source": [
    "Doesn't seem to work entirely. SOme words got removed, some others (isi, islamic, allah, for instance) not."
   ]
  },
  {
   "cell_type": "code",
   "execution_count": 39,
   "metadata": {},
   "outputs": [],
   "source": [
    "# Put word count into a function\n",
    "def word_count(df):\n",
    "    all_words = []\n",
    "    for line in list(df['tweets_prepr_stop']):\n",
    "        words = line.split()\n",
    "        for word in words:\n",
    "            all_words.append(word.lower())\n",
    "    \n",
    "    stop_words = set(stopwords.words('english'))\n",
    "    tweets_stop = [w for w in all_words if not w in stop_words]\n",
    "    \n",
    "    return tweets_stop"
   ]
  },
  {
   "cell_type": "code",
   "execution_count": 40,
   "metadata": {},
   "outputs": [],
   "source": [
    "#### Most frequent words at or around tweet-frequency tweets"
   ]
  },
  {
   "cell_type": "code",
   "execution_count": 41,
   "metadata": {},
   "outputs": [],
   "source": [
    "##### 2015"
   ]
  },
  {
   "cell_type": "code",
   "execution_count": 44,
   "metadata": {},
   "outputs": [
    {
     "data": {
      "text/plain": [
       "[('allah', 4),\n",
       " ('abu', 4),\n",
       " ('baghdadi', 4),\n",
       " ('military', 3),\n",
       " ('christian', 3),\n",
       " ('islam', 3),\n",
       " ('west', 3),\n",
       " ('iraqi', 3),\n",
       " ('aqap', 3),\n",
       " ('best', 3),\n",
       " ('bakr', 3),\n",
       " ('baghdad', 3),\n",
       " ('akbar', 2),\n",
       " ('breaking', 2),\n",
       " ('ing', 2),\n",
       " ('casualty', 2),\n",
       " ('jew', 2),\n",
       " ('shia', 2),\n",
       " ('district', 2),\n",
       " ('two', 2),\n",
       " ('via', 2),\n",
       " ('lost', 2),\n",
       " ('doubt', 2),\n",
       " ('leader', 2),\n",
       " ('fat', 2)]"
      ]
     },
     "execution_count": 44,
     "metadata": {},
     "output_type": "execute_result"
    }
   ],
   "source": [
    "df = data.query('date == \"2015-9-5\" | date == \"2015-9-4\" | date == \"2015-9-6\"')\n",
    "tweets_stop4 = word_count(df)\n",
    "Counter(tweets_stop4).most_common(25)\n",
    "\n",
    "df = data.query('date == \"2015-9-23\" | date == \"2015-9-24\" | date == \"2015-9-25\"')\n",
    "tweets_stop3 = word_count(df)\n",
    "Counter(tweets_stop3).most_common(25)\n",
    "\n",
    "df = data.query('date == \"2015-12-11\" | date == \"2015-12-12\" | date == \"2015-12-13\"')\n",
    "tweets_stop2 = word_count(df)\n",
    "Counter(tweets_stop2).most_common(25)\n",
    "\n",
    "df = data.query('date == \"2015-12-25\" | date == \"2015-12-26\" | date == \"2015-12-27\"')\n",
    "tweets_stop = word_count(df)\n",
    "Counter(tweets_stop).most_common(25)"
   ]
  },
  {
   "cell_type": "code",
   "execution_count": 45,
   "metadata": {},
   "outputs": [
    {
     "data": {
      "image/png": "[encoded data removed]",
      "text/plain": [
       "<Figure size 432x288 with 1 Axes>"
      ]
     },
     "metadata": {
      "needs_background": "light"
     },
     "output_type": "display_data"
    },
    {
     "data": {
      "image/png": "[encoded data removed]",
      "text/plain": [
       "<Figure size 432x288 with 1 Axes>"
      ]
     },
     "metadata": {
      "needs_background": "light"
     },
     "output_type": "display_data"
    },
    {
     "data": {
      "image/png": "[encoded data removed]",
      "text/plain": [
       "<Figure size 432x288 with 1 Axes>"
      ]
     },
     "metadata": {
      "needs_background": "light"
     },
     "output_type": "display_data"
    },
    {
     "data": {
      "image/png": "[encoded data removed]",
      "text/plain": [
       "<Figure size 432x288 with 1 Axes>"
      ]
     },
     "metadata": {
      "needs_background": "light"
     },
     "output_type": "display_data"
    }
   ],
   "source": [
    "#freq_plot = plt.subplots(2,2, figsize=(16, 10))\n",
    "\n",
    "#ax[0,0].figure(figsize=(12,5))\n",
    "#ax[0,0].title('Top 25 most common words AFTER stop-word removal')\n",
    "#ax[0,0].xticks(fontsize=13, rotation=90)\n",
    "fd = nltk.FreqDist(tweets_stop)\n",
    "fd.plot(25,cumulative=False)\n",
    "\n",
    "fd = nltk.FreqDist(tweets_stop2)\n",
    "fd.plot(25,cumulative=False)\n",
    "\n",
    "fd = nltk.FreqDist(tweets_stop3)\n",
    "fd.plot(25,cumulative=False)\n",
    "\n",
    "fd = nltk.FreqDist(tweets_stop4)\n",
    "fd.plot(25,cumulative=False)"
   ]
  },
  {
   "cell_type": "markdown",
   "metadata": {},
   "source": [
    "##### January - February 2016"
   ]
  },
  {
   "cell_type": "code",
   "execution_count": 52,
   "metadata": {},
   "outputs": [
    {
     "data": {
      "text/plain": [
       "[('control', 7),\n",
       " ('news', 7),\n",
       " ('huge', 7),\n",
       " ('never', 6),\n",
       " ('khilafah', 6),\n",
       " ('16th', 6),\n",
       " ('january', 6),\n",
       " ('2016', 6),\n",
       " ('muslim', 5),\n",
       " ('forget', 5),\n",
       " ('brigade', 5),\n",
       " ('allah', 5),\n",
       " ('offensive', 5),\n",
       " ('area', 5),\n",
       " ('mp3', 5),\n",
       " ('docx', 5),\n",
       " ('civilian', 5),\n",
       " ('thug', 5),\n",
       " ('know', 4),\n",
       " ('keep', 4),\n",
       " ('massacred', 4),\n",
       " ('back', 4),\n",
       " ('mujahideen', 4),\n",
       " ('west', 4),\n",
       " ('language', 4)]"
      ]
     },
     "execution_count": 52,
     "metadata": {},
     "output_type": "execute_result"
    }
   ],
   "source": [
    "df = data.query('date == \"2016-1-15\" | date == \"2016-1-16\" | date == \"2016-1-17\"')\n",
    "tweets_stop = word_count(df)\n",
    "#Counter(tweets_stop).most_common(25)\n",
    "#fd = nltk.FreqDist(tweets_stop)\n",
    "#fd.plot(25,cumulative=False)\n"
   ]
  },
  {
   "cell_type": "code",
   "execution_count": 53,
   "metadata": {},
   "outputs": [
    {
     "data": {
      "text/plain": [
       "[('islamic', 24),\n",
       " ('assad', 19),\n",
       " ('shia', 18),\n",
       " ('allah', 17),\n",
       " ('two', 17),\n",
       " ('damascus', 14),\n",
       " ('syrian', 14),\n",
       " ('area', 14),\n",
       " ('cest', 14),\n",
       " ('shrine', 13),\n",
       " ('time', 12),\n",
       " ('dont', 12),\n",
       " ('claim', 12),\n",
       " ('state', 12),\n",
       " ('iraqi', 12),\n",
       " ('regime', 11),\n",
       " ('like', 11),\n",
       " ('militia', 11),\n",
       " ('south', 11),\n",
       " ('pa', 11),\n",
       " ('targeting', 11),\n",
       " ('le', 11),\n",
       " ('pour', 11),\n",
       " ('east', 11),\n",
       " ('syria', 10)]"
      ]
     },
     "execution_count": 53,
     "metadata": {},
     "output_type": "execute_result"
    }
   ],
   "source": [
    "df = data.query('date == \"2016-1-31\"')\n",
    "tweets_stop = word_count(df)\n",
    "Counter(tweets_stop).most_common(25)\n",
    "#fd = nltk.FreqDist(tweets_stop)\n",
    "#fd.plot(25,cumulative=False)"
   ]
  },
  {
   "cell_type": "code",
   "execution_count": 54,
   "metadata": {},
   "outputs": [
    {
     "data": {
      "text/plain": [
       "[('assad', 32),\n",
       " ('syrian', 31),\n",
       " ('aleppo', 29),\n",
       " ('islamic', 27),\n",
       " ('fight', 27),\n",
       " ('troop', 27),\n",
       " ('syria', 26),\n",
       " ('state', 24),\n",
       " ('regime', 23),\n",
       " ('military', 21),\n",
       " ('militia', 19),\n",
       " ('ground', 19),\n",
       " ('islam', 19),\n",
       " ('russian', 18),\n",
       " ('saudi', 18),\n",
       " ('day', 18),\n",
       " ('fighting', 16),\n",
       " ('like', 16),\n",
       " ('want', 15),\n",
       " ('make', 15),\n",
       " ('still', 14),\n",
       " ('north', 14),\n",
       " ('time', 14),\n",
       " ('ready', 14),\n",
       " ('report', 13)]"
      ]
     },
     "execution_count": 54,
     "metadata": {},
     "output_type": "execute_result"
    }
   ],
   "source": [
    "df = data.query('date == \"2016-2-4\" | date == \"2016-2-5\" | date == \"2016-2-6\"')\n",
    "tweets_stop = word_count(df)\n",
    "Counter(tweets_stop).most_common(25)\n",
    "#fd = nltk.FreqDist(tweets_stop)\n",
    "#fd.plot(25,cumulative=False)"
   ]
  },
  {
   "cell_type": "code",
   "execution_count": 55,
   "metadata": {},
   "outputs": [
    {
     "data": {
      "text/plain": [
       "[('syria', 23),\n",
       " ('isi', 19),\n",
       " ('west', 17),\n",
       " ('islamic', 16),\n",
       " ('like', 15),\n",
       " ('every', 14),\n",
       " ('dont', 14),\n",
       " ('state', 14),\n",
       " ('western', 14),\n",
       " ('de', 14),\n",
       " ('allah', 13),\n",
       " ('saudi', 13),\n",
       " ('back', 13),\n",
       " ('world', 12),\n",
       " ('time', 12),\n",
       " ('death', 12),\n",
       " ('army', 12),\n",
       " ('photo', 12),\n",
       " ('assad', 11),\n",
       " ('syrian', 11),\n",
       " ('ypg', 11),\n",
       " ('abu', 11),\n",
       " ('see', 10),\n",
       " ('tank', 10),\n",
       " ('war', 10)]"
      ]
     },
     "execution_count": 55,
     "metadata": {},
     "output_type": "execute_result"
    }
   ],
   "source": [
    "df = data.query('date == \"2016-2-10\" | date == \"2016-2-11\" | date == \"2016-2-12\"')\n",
    "tweets_stop = word_count(df)\n",
    "Counter(tweets_stop).most_common(25)\n",
    "#fd = nltk.FreqDist(tweets_stop)\n",
    "#fd.plot(25,cumulative=False)"
   ]
  },
  {
   "cell_type": "code",
   "execution_count": 56,
   "metadata": {},
   "outputs": [
    {
     "data": {
      "text/plain": [
       "[('allah', 37),\n",
       " ('said', 20),\n",
       " ('may', 18),\n",
       " ('day', 16),\n",
       " ('war', 14),\n",
       " ('time', 14),\n",
       " ('syria', 12),\n",
       " ('brother', 12),\n",
       " ('muslim', 12),\n",
       " ('like', 11),\n",
       " ('civilian', 10),\n",
       " ('coalition', 10),\n",
       " ('militant', 10),\n",
       " ('right', 10),\n",
       " ('never', 10),\n",
       " ('security', 10),\n",
       " ('terror', 9),\n",
       " ('shelling', 9),\n",
       " ('kill', 9),\n",
       " ('still', 9),\n",
       " ('nato', 9),\n",
       " ('isi', 8),\n",
       " ('life', 8),\n",
       " ('good', 8),\n",
       " ('member', 8)]"
      ]
     },
     "execution_count": 56,
     "metadata": {},
     "output_type": "execute_result"
    }
   ],
   "source": [
    "df = data.query('date == \"2016-2-18\" | date == \"2016-2-19\" | date == \"2016-2-20\"')\n",
    "tweets_stop = word_count(df)\n",
    "Counter(tweets_stop).most_common(25)\n",
    "#fd = nltk.FreqDist(tweets_stop)\n",
    "#fd.plot(25,cumulative=False)"
   ]
  },
  {
   "cell_type": "code",
   "execution_count": 57,
   "metadata": {},
   "outputs": [
    {
     "data": {
      "text/plain": [
       "[('isi', 19),\n",
       " ('islam', 15),\n",
       " ('woman', 14),\n",
       " ('iran', 13),\n",
       " ('pakistan', 12),\n",
       " ('dawlah', 12),\n",
       " ('leader', 10),\n",
       " ('cleric', 10),\n",
       " ('fight', 10),\n",
       " ('ceasefire', 10),\n",
       " ('assad', 9),\n",
       " ('islamic', 9),\n",
       " ('right', 9),\n",
       " ('time', 8),\n",
       " ('back', 8),\n",
       " ('syria', 8),\n",
       " ('west', 8),\n",
       " ('captured', 8),\n",
       " ('saudi', 8),\n",
       " ('terror', 7),\n",
       " ('south', 7),\n",
       " ('syrian', 7),\n",
       " ('pakistani', 7),\n",
       " ('khair', 7),\n",
       " ('thug', 7)]"
      ]
     },
     "execution_count": 57,
     "metadata": {},
     "output_type": "execute_result"
    }
   ],
   "source": [
    "df = data.query('date == \"2016-2-25\" | date == \"2016-2-26\"')\n",
    "tweets_stop = word_count(df)\n",
    "Counter(tweets_stop).most_common(25)\n",
    "#fd = nltk.FreqDist(tweets_stop)\n",
    "#fd.plot(25,cumulative=False)"
   ]
  },
  {
   "cell_type": "markdown",
   "metadata": {},
   "source": [
    "##### March - May 2016"
   ]
  },
  {
   "cell_type": "code",
   "execution_count": 58,
   "metadata": {},
   "outputs": [
    {
     "data": {
      "text/plain": [
       "[('bin', 25),\n",
       " ('isi', 24),\n",
       " ('abu', 20),\n",
       " ('like', 19),\n",
       " ('state', 16),\n",
       " ('allah', 16),\n",
       " ('time', 14),\n",
       " ('operation', 13),\n",
       " ('islamic', 13),\n",
       " ('militant', 13),\n",
       " ('ali', 13),\n",
       " ('taliban', 13),\n",
       " ('breaking', 12),\n",
       " ('want', 12),\n",
       " ('war', 12),\n",
       " ('rafidhi', 12),\n",
       " ('made', 11),\n",
       " ('armed', 11),\n",
       " ('militia', 11),\n",
       " ('dawlah', 11),\n",
       " ('iraq', 11),\n",
       " ('fight', 11),\n",
       " ('daesh', 11),\n",
       " ('ruler', 11),\n",
       " ('leader', 10)]"
      ]
     },
     "execution_count": 58,
     "metadata": {},
     "output_type": "execute_result"
    }
   ],
   "source": [
    "df = data.query('date == \"2016-3-2\" | date == \"2016-3-3\"')\n",
    "tweets_stop = word_count(df)\n",
    "Counter(tweets_stop).most_common(25)\n",
    "#fd = nltk.FreqDist(tweets_stop)\n",
    "#fd.plot(25,cumulative=False)"
   ]
  },
  {
   "cell_type": "code",
   "execution_count": 59,
   "metadata": {},
   "outputs": [
    {
     "data": {
      "text/plain": [
       "[('abu', 20),\n",
       " ('isi', 18),\n",
       " ('arab', 16),\n",
       " ('sahwat', 14),\n",
       " ('civilian', 14),\n",
       " ('see', 12),\n",
       " ('fsa', 11),\n",
       " ('many', 10),\n",
       " ('mar', 10),\n",
       " ('ali', 9),\n",
       " ('commander', 9),\n",
       " ('know', 9),\n",
       " ('dont', 9),\n",
       " ('dawlah', 9),\n",
       " ('village', 9),\n",
       " ('west', 9),\n",
       " ('said', 9),\n",
       " ('saudi', 9),\n",
       " ('claim', 8),\n",
       " ('allah', 8),\n",
       " ('like', 8),\n",
       " ('state', 8),\n",
       " ('among', 8),\n",
       " ('border', 8),\n",
       " ('lol', 8)]"
      ]
     },
     "execution_count": 59,
     "metadata": {},
     "output_type": "execute_result"
    }
   ],
   "source": [
    "df = data.query('date == \"2016-3-10\" | date == \"2016-3-11\"')\n",
    "tweets_stop = word_count(df)\n",
    "Counter(tweets_stop).most_common(25)"
   ]
  },
  {
   "cell_type": "code",
   "execution_count": 60,
   "metadata": {},
   "outputs": [
    {
     "data": {
      "text/plain": [
       "[('islamic', 54),\n",
       " ('state', 52),\n",
       " ('takfir', 23),\n",
       " ('russian', 19),\n",
       " ('upon', 16),\n",
       " ('west', 15),\n",
       " ('military', 15),\n",
       " ('allah', 15),\n",
       " ('make', 15),\n",
       " ('muslim', 14),\n",
       " ('person', 14),\n",
       " ('day', 13),\n",
       " ('like', 13),\n",
       " ('khair', 13),\n",
       " ('battle', 11),\n",
       " ('upp0rt', 10),\n",
       " ('akhi', 10),\n",
       " ('isi', 10),\n",
       " ('islam', 10),\n",
       " ('palmyra', 10),\n",
       " ('kufr', 10),\n",
       " ('declare', 9),\n",
       " ('every', 9),\n",
       " ('disbeliever', 9),\n",
       " ('dont', 9)]"
      ]
     },
     "execution_count": 60,
     "metadata": {},
     "output_type": "execute_result"
    }
   ],
   "source": [
    "df = data.query('date == \"2016-3-17\" | date == \"2016-3-18\"')\n",
    "tweets_stop = word_count(df)\n",
    "Counter(tweets_stop).most_common(25)"
   ]
  },
  {
   "cell_type": "code",
   "execution_count": 61,
   "metadata": {},
   "outputs": [
    {
     "data": {
      "text/plain": [
       "[('isi', 29),\n",
       " ('coalition', 21),\n",
       " ('university', 21),\n",
       " ('mosul', 19),\n",
       " ('brussels', 16),\n",
       " ('belgium', 15),\n",
       " ('explosion', 14),\n",
       " ('claim', 12),\n",
       " ('muslim', 12),\n",
       " ('ing', 11),\n",
       " ('nusra', 11),\n",
       " ('day', 11),\n",
       " ('please', 10),\n",
       " ('world', 10),\n",
       " ('bombing', 9),\n",
       " ('airport', 9),\n",
       " ('terror', 9),\n",
       " ('military', 8),\n",
       " ('saa', 8),\n",
       " ('syria', 8),\n",
       " ('time', 8),\n",
       " ('state', 8),\n",
       " ('account', 8),\n",
       " ('least', 7),\n",
       " ('bomb', 7)]"
      ]
     },
     "execution_count": 61,
     "metadata": {},
     "output_type": "execute_result"
    }
   ],
   "source": [
    "df = data.query('date == \"2016-3-21\" | date == \"2016-3-22\" | date == \"2016-3-22\"')\n",
    "tweets_stop = word_count(df)\n",
    "Counter(tweets_stop).most_common(25)"
   ]
  },
  {
   "cell_type": "code",
   "execution_count": 62,
   "metadata": {},
   "outputs": [
    {
     "data": {
      "text/plain": [
       "[('islamic', 38),\n",
       " ('state', 35),\n",
       " ('allah', 34),\n",
       " ('isi', 29),\n",
       " ('assad', 23),\n",
       " ('support', 23),\n",
       " ('syrian', 22),\n",
       " ('regime', 20),\n",
       " ('know', 20),\n",
       " ('back', 20),\n",
       " ('muslim', 19),\n",
       " ('bombing', 19),\n",
       " ('le', 19),\n",
       " ('cest', 19),\n",
       " ('palmyra', 19),\n",
       " ('time', 18),\n",
       " ('pa', 17),\n",
       " ('lol', 17),\n",
       " ('airstrikes', 16),\n",
       " ('militia', 16),\n",
       " ('year', 16),\n",
       " ('coalition', 16),\n",
       " ('still', 15),\n",
       " ('want', 15),\n",
       " ('abu', 15)]"
      ]
     },
     "execution_count": 62,
     "metadata": {},
     "output_type": "execute_result"
    }
   ],
   "source": [
    "df = data.query('date == \"2016-3-24\" | date == \"2016-3-25\"')\n",
    "tweets_stop = word_count(df)\n",
    "Counter(tweets_stop).most_common(25)"
   ]
  },
  {
   "cell_type": "code",
   "execution_count": 63,
   "metadata": {},
   "outputs": [
    {
     "data": {
      "text/plain": [
       "[('muslim', 25),\n",
       " ('allah', 21),\n",
       " ('please', 18),\n",
       " ('like', 13),\n",
       " ('airstrikes', 13),\n",
       " ('account', 13),\n",
       " ('islam', 12),\n",
       " ('suspend', 12),\n",
       " ('back', 10),\n",
       " ('civilian', 10),\n",
       " ('help', 10),\n",
       " ('yesterday', 10),\n",
       " ('support', 9),\n",
       " ('time', 9),\n",
       " ('claim', 8),\n",
       " ('village', 8),\n",
       " ('war', 8),\n",
       " ('coalition', 8),\n",
       " ('never', 8),\n",
       " ('kuffar', 8),\n",
       " ('regime', 8),\n",
       " ('position', 8),\n",
       " ('pa', 8),\n",
       " ('also', 8),\n",
       " ('isi', 8)]"
      ]
     },
     "execution_count": 63,
     "metadata": {},
     "output_type": "execute_result"
    }
   ],
   "source": [
    "df = data.query('date == \"2016-3-31\" | date == \"2016-4-1\"')\n",
    "tweets_stop = word_count(df)\n",
    "Counter(tweets_stop).most_common(25)"
   ]
  },
  {
   "cell_type": "code",
   "execution_count": 64,
   "metadata": {},
   "outputs": [
    {
     "data": {
      "text/plain": [
       "[('islamic', 50),\n",
       " ('allah', 39),\n",
       " ('alqaeda', 39),\n",
       " ('state', 36),\n",
       " ('ahrar', 29),\n",
       " ('syrian', 29),\n",
       " ('sahawat', 26),\n",
       " ('fsa', 25),\n",
       " ('dog', 25),\n",
       " ('muslim', 24),\n",
       " ('regime', 24),\n",
       " ('fight', 22),\n",
       " ('assad', 22),\n",
       " ('dont', 21),\n",
       " ('ally', 21),\n",
       " ('isi', 20),\n",
       " ('fighting', 19),\n",
       " ('opposition', 16),\n",
       " ('shariah', 15),\n",
       " ('east', 15),\n",
       " ('want', 15),\n",
       " ('vso', 15),\n",
       " ('nusra', 14),\n",
       " ('commander', 14),\n",
       " ('vetted', 14)]"
      ]
     },
     "execution_count": 64,
     "metadata": {},
     "output_type": "execute_result"
    }
   ],
   "source": [
    "df = data.query('date == \"2016-4-7\" | date == \"2016-4-8\"')\n",
    "tweets_stop = word_count(df)\n",
    "Counter(tweets_stop).most_common(25)"
   ]
  },
  {
   "cell_type": "code",
   "execution_count": 65,
   "metadata": {},
   "outputs": [
    {
     "data": {
      "text/plain": [
       "[('isi', 25),\n",
       " ('muslim', 19),\n",
       " ('hacked', 18),\n",
       " ('dont', 16),\n",
       " ('vso', 15),\n",
       " ('abu', 13),\n",
       " ('allah', 12),\n",
       " ('islamic', 11),\n",
       " ('mercenary', 11),\n",
       " ('state', 10),\n",
       " ('arab', 10),\n",
       " ('aleppo', 10),\n",
       " ('le', 10),\n",
       " ('sharia', 9),\n",
       " ('like', 9),\n",
       " ('day', 9),\n",
       " ('islam', 9),\n",
       " ('north', 9),\n",
       " ('several', 9),\n",
       " ('camp', 9),\n",
       " ('russian', 9),\n",
       " ('jet', 9),\n",
       " ('death', 8),\n",
       " ('get', 8),\n",
       " ('want', 8)]"
      ]
     },
     "execution_count": 65,
     "metadata": {},
     "output_type": "execute_result"
    }
   ],
   "source": [
    "df = data.query('date == \"2016-4-13\" | date == \"2016-4-14\"')\n",
    "tweets_stop = word_count(df)\n",
    "Counter(tweets_stop).most_common(25)"
   ]
  },
  {
   "cell_type": "code",
   "execution_count": 66,
   "metadata": {},
   "outputs": [
    {
     "data": {
      "text/plain": [
       "[('isi', 37),\n",
       " ('ypg', 23),\n",
       " ('islamic', 20),\n",
       " ('state', 20),\n",
       " ('soldier', 19),\n",
       " ('assad', 18),\n",
       " ('child', 17),\n",
       " ('regime', 16),\n",
       " ('eastern', 16),\n",
       " ('military', 15),\n",
       " ('civilian', 15),\n",
       " ('road', 14),\n",
       " ('saudi', 13),\n",
       " ('like', 13),\n",
       " ('fight', 13),\n",
       " ('airstrikes', 13),\n",
       " ('pilot', 13),\n",
       " ('alqaeda', 12),\n",
       " ('fighting', 12),\n",
       " ('breaking', 12),\n",
       " ('plane', 12),\n",
       " ('le', 12),\n",
       " ('jet', 12),\n",
       " ('death', 11),\n",
       " ('force', 11)]"
      ]
     },
     "execution_count": 66,
     "metadata": {},
     "output_type": "execute_result"
    }
   ],
   "source": [
    "df = data.query('date == \"2016-4-21\" | date == \"2016-4-22\"')\n",
    "tweets_stop = word_count(df)\n",
    "Counter(tweets_stop).most_common(25)"
   ]
  },
  {
   "cell_type": "code",
   "execution_count": 68,
   "metadata": {},
   "outputs": [
    {
     "data": {
      "text/plain": [
       "[('isi', 11),\n",
       " ('allah', 10),\n",
       " ('militant', 10),\n",
       " ('muslim', 7),\n",
       " ('rasulullah', 7),\n",
       " ('state', 7),\n",
       " ('area', 7),\n",
       " ('egyptian', 7),\n",
       " ('killing', 6),\n",
       " ('abu', 6),\n",
       " ('dont', 6),\n",
       " ('claim', 6),\n",
       " ('islamic', 6),\n",
       " ('heavy', 5),\n",
       " ('civilian', 5),\n",
       " ('aqap', 5),\n",
       " ('wounded', 5),\n",
       " ('west', 5),\n",
       " ('like', 5),\n",
       " ('two', 5),\n",
       " ('think', 5),\n",
       " ('airstrikes', 5),\n",
       " ('gay', 5),\n",
       " ('strategy', 4),\n",
       " ('betrayed', 4)]"
      ]
     },
     "execution_count": 68,
     "metadata": {},
     "output_type": "execute_result"
    }
   ],
   "source": [
    "df = data.query('date == \"2016-4-25\"')\n",
    "tweets_stop = word_count(df)\n",
    "Counter(tweets_stop).most_common(25)"
   ]
  },
  {
   "cell_type": "code",
   "execution_count": 69,
   "metadata": {},
   "outputs": [
    {
     "data": {
      "text/plain": [
       "[('destroyed', 40),\n",
       " ('tank', 39),\n",
       " ('aleppo', 24),\n",
       " ('isi', 22),\n",
       " ('army', 22),\n",
       " ('ypg', 20),\n",
       " ('syrian', 19),\n",
       " ('turkish', 19),\n",
       " ('breaking', 17),\n",
       " ('border', 16),\n",
       " ('airstrikes', 16),\n",
       " ('north', 15),\n",
       " ('assad', 15),\n",
       " ('police', 15),\n",
       " ('militant', 14),\n",
       " ('west', 14),\n",
       " ('iraqi', 13),\n",
       " ('body', 13),\n",
       " ('civilian', 13),\n",
       " ('help', 13),\n",
       " ('claim', 13),\n",
       " ('abu', 12),\n",
       " ('yesterday', 12),\n",
       " ('like', 12),\n",
       " ('child', 12)]"
      ]
     },
     "execution_count": 69,
     "metadata": {},
     "output_type": "execute_result"
    }
   ],
   "source": [
    "df = data.query('date == \"2016-4-28\" | date == \"2016-4-29\"')\n",
    "tweets_stop = word_count(df)\n",
    "Counter(tweets_stop).most_common(25)"
   ]
  },
  {
   "cell_type": "code",
   "execution_count": 70,
   "metadata": {},
   "outputs": [
    {
     "data": {
      "text/plain": [
       "[('islamic', 22),\n",
       " ('allah', 18),\n",
       " ('apos', 16),\n",
       " ('khan', 15),\n",
       " ('state', 14),\n",
       " ('tuman', 14),\n",
       " ('assad', 12),\n",
       " ('abu', 12),\n",
       " ('isi', 12),\n",
       " ('neighborhood', 11),\n",
       " ('regime', 10),\n",
       " ('take', 10),\n",
       " ('know', 10),\n",
       " ('south', 10),\n",
       " ('soldier', 10),\n",
       " ('army', 10),\n",
       " ('brother', 10),\n",
       " ('child', 9),\n",
       " ('muslim', 9),\n",
       " ('day', 9),\n",
       " ('village', 9),\n",
       " ('vehicle', 9),\n",
       " ('saudi', 9),\n",
       " ('area', 9),\n",
       " ('clash', 8)]"
      ]
     },
     "execution_count": 70,
     "metadata": {},
     "output_type": "execute_result"
    }
   ],
   "source": [
    "df = data.query('date == \"2016-5-6\"')\n",
    "tweets_stop = word_count(df)\n",
    "Counter(tweets_stop).most_common(25)"
   ]
  },
  {
   "cell_type": "code",
   "execution_count": 71,
   "metadata": {},
   "outputs": [
    {
     "data": {
      "text/plain": [
       "[('iraqi', 36),\n",
       " ('ramadi', 28),\n",
       " ('pig', 28),\n",
       " ('north', 27),\n",
       " ('army', 27),\n",
       " ('area', 22),\n",
       " ('islamic', 21),\n",
       " ('soldier', 21),\n",
       " ('operation', 19),\n",
       " ('isi', 19),\n",
       " ('hit', 18),\n",
       " ('martyrdom', 16),\n",
       " ('state', 15),\n",
       " ('destroyed', 14),\n",
       " ('military', 13),\n",
       " ('huge', 12),\n",
       " ('northern', 11),\n",
       " ('control', 11),\n",
       " ('syrian', 11),\n",
       " ('supply', 10),\n",
       " ('car', 10),\n",
       " ('abu', 10),\n",
       " ('yesterday', 10),\n",
       " ('east', 10),\n",
       " ('fire', 10)]"
      ]
     },
     "execution_count": 71,
     "metadata": {},
     "output_type": "execute_result"
    }
   ],
   "source": [
    "df = data.query('date == \"2016-5-12\"')\n",
    "tweets_stop = word_count(df)\n",
    "Counter(tweets_stop).most_common(25)"
   ]
  },
  {
   "cell_type": "code",
   "execution_count": null,
   "metadata": {},
   "outputs": [],
   "source": []
  }
 ],
 "metadata": {
  "kernelspec": {
   "display_name": "Python 3",
   "language": "python",
   "name": "python3"
  },
  "language_info": {
   "codemirror_mode": {
    "name": "ipython",
    "version": 3
   },
   "file_extension": ".py",
   "mimetype": "text/x-python",
   "name": "python",
   "nbconvert_exporter": "python",
   "pygments_lexer": "ipython3",
   "version": "3.7.1"
  }
 },
 "nbformat": 4,
 "nbformat_minor": 2
}
