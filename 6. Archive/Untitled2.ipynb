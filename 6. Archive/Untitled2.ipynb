{
 "cells": [
  {
   "cell_type": "markdown",
   "metadata": {},
   "source": [
    "# Exam Project: The formation of ISIS' Social Media Network\n",
    "Group members: Zeyu Zhao, Helge Zille, Edith Zink, Sina Smid\n",
    "\n",
    "# Functions"
   ]
  },
  {
   "cell_type": "code",
   "execution_count": null,
   "metadata": {},
   "outputs": [],
   "source": [
    "def tdate(x):\n",
    "    return datetime.datetime(x.year, x.month, x.day)\n",
    "\n",
    "def read_tweets(csv_file):\n",
    "    ''' Function that reads in tweets.csv and creates a pandas Dataframe with formated time and date column'''\n",
    "    df = pd.read_csv(csv_file)\n",
    "    \n",
    "\n",
    "    df['date'] = data.time.apply(tsimple)"
   ]
  }
 ],
 "metadata": {
  "kernelspec": {
   "display_name": "Python 3",
   "language": "python",
   "name": "python3"
  },
  "language_info": {
   "codemirror_mode": {
    "name": "ipython",
    "version": 3
   },
   "file_extension": ".py",
   "mimetype": "text/x-python",
   "name": "python",
   "nbconvert_exporter": "python",
   "pygments_lexer": "ipython3",
   "version": "3.7.1"
  }
 },
 "nbformat": 4,
 "nbformat_minor": 2
}
