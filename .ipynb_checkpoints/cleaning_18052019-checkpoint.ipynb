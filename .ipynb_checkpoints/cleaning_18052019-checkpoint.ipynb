{
 "cells": [
  {
   "cell_type": "markdown",
   "metadata": {},
   "source": [
    "# Exam Project: The formation of ISIS' Social Media Network\n",
    "Group members: Zeyu Zhao, Helge Zille, Edith Zink, Sina Smid\n",
    "\n",
    "**I) This Notebook prepares the tweets for the text analysis and contains**:\n",
    "\n",
    "**1. Preprocessing of tweets - data cleaning:**\n",
    "- Prepare a preprocessed and clean `tweets` column for text analysis\n"
   ]
  },
  {
   "cell_type": "code",
   "execution_count": 16,
   "metadata": {},
   "outputs": [
    {
     "name": "stdout",
     "output_type": "stream",
     "text": [
      "['#E24A33', '#348ABD', '#988ED5', '#777777', '#FBC15E', '#8EBA42', '#FFB5B8']\n"
     ]
    }
   ],
   "source": [
    "import numpy as np\n",
    "import pandas as pd\n",
    "import matplotlib.pyplot as plt\n",
    "from matplotlib import style\n",
    "%matplotlib inline\n",
    "plt.style.use('ggplot')\n",
    "\n",
    "# Functions\n",
    "from our_functions import *\n",
    "\n",
    "\n",
    "# Define color\n",
    "print( plt.rcParams['axes.prop_cycle'].by_key()['color'])\n",
    "default_red = plt.rcParams['axes.prop_cycle'].by_key()['color'][0]\n"
   ]
  },
  {
   "cell_type": "code",
   "execution_count": 17,
   "metadata": {},
   "outputs": [],
   "source": [
    "df = read_tweets('tweets_1.csv')"
   ]
  },
  {
   "cell_type": "code",
   "execution_count": 18,
   "metadata": {},
   "outputs": [
    {
     "data": {
      "image/png": "[encoded data removed]",
      "text/plain": [
       "<Figure size 864x648 with 1 Axes>"
      ]
     },
     "metadata": {},
     "output_type": "display_data"
    }
   ],
   "source": [
    "df = language(df)\n",
    "pd.Series(df['language']).value_counts().head(10).plot(kind = \"bar\",\n",
    "                                                        figsize=(12,9),\n",
    "                                                        color=default_red,\n",
    "                                                        fontsize=14,\n",
    "                                                        rot=45,\n",
    "                                                        title = \"Top 10 most common languages\")\n",
    "plt.savefig('figures_exam_project/hist_languages.png')\n",
    "\n",
    "df = df[df.language == 'en'].reset_index()\n",
    "\n",
    "df.drop(['language','lg_value'], axis=1, inplace=True)"
   ]
  },
  {
   "cell_type": "code",
   "execution_count": 19,
   "metadata": {},
   "outputs": [],
   "source": [
    "# Save orginal tweets:\n",
    "df['tweets_unedit'] =  df['tweets']\n",
    "\n",
    "# Create new columns for mentions, retweeted_from, and # (=noisy labels)\n",
    "df['retweeted_from'] = df['tweets'].str.extract('RT\\s@([^:]*)')\n",
    "df['mentions'] = df['tweets'].str.findall('@([^\\s,^:]*)')\n",
    "df['hashtags'] = df['tweets'].str.findall('#([^\\s,^:]*)')\n",
    "\n",
    "# Remove &amp, \\n, arabic characters and links\n",
    "def remove_from_body(data,regex):\n",
    "    data['tweets']=data.tweets.apply(lambda x: re.sub(regex,'',x))\n",
    "    return data\n",
    "\n",
    "regex = [\"http\\S+\", \"&amp\", \"[^\\x00-\\x7F]+\", \"\\n\", \"@[^\\s]*\", \"#[^\\s]*\", \"RT\"]\n",
    "\n",
    "for regex in regex:\n",
    "    df = remove_from_body(df, re.compile(regex))"
   ]
  },
  {
   "cell_type": "code",
   "execution_count": 21,
   "metadata": {},
   "outputs": [
    {
     "name": "stderr",
     "output_type": "stream",
     "text": [
      "[nltk_data] Downloading package stopwords to\n",
      "[nltk_data]     C:\\Users\\tdb973\\AppData\\Roaming\\nltk_data...\n",
      "[nltk_data]   Package stopwords is already up-to-date!\n"
     ]
    }
   ],
   "source": [
    "# Extract only the words from tweets\n",
    "df['words_in_tweet'] = [re.findall(r'\\w+',tweet.lower()) for tweet in df['tweets']]\n",
    "\n",
    "# Delete stop words\n",
    "from nltk.corpus import stopwords\n",
    "nltk.download('stopwords')\n",
    "\n",
    "stop_words = set(stopwords.words('english'))\n",
    "df['tweets_nsw'] = [[word for word in tweet_words if not word in stop_words]\n",
    "              for tweet_words in df['words_in_tweet']]"
   ]
  },
  {
   "cell_type": "code",
   "execution_count": 22,
   "metadata": {},
   "outputs": [],
   "source": [
    "# Apply Stemming\n",
    "from nltk.stem import PorterStemmer\n",
    "porter = PorterStemmer()\n",
    "\n",
    "df['tweets_stem'] = [stem_list(tweet_words) for tweet_words in df['tweets_nsw']]"
   ]
  },
  {
   "cell_type": "code",
   "execution_count": 23,
   "metadata": {},
   "outputs": [
    {
     "name": "stderr",
     "output_type": "stream",
     "text": [
      "[nltk_data] Downloading package wordnet to\n",
      "[nltk_data]     C:\\Users\\tdb973\\AppData\\Roaming\\nltk_data...\n",
      "[nltk_data]   Package wordnet is already up-to-date!\n"
     ]
    }
   ],
   "source": [
    "# Apply Lemmatization\n",
    "import nltk\n",
    "nltk.download('wordnet')\n",
    "from nltk.corpus import wordnet as wn\n",
    "\n",
    "df['tweets_lemm'] = [lemmatize(tweet_words) for tweet_words in df['tweets_nsw']]"
   ]
  },
  {
   "cell_type": "code",
   "execution_count": 26,
   "metadata": {},
   "outputs": [],
   "source": [
    "# Save \n",
    "df.drop(['name','description','location','tweets'], axis=1, inplace=True)\n",
    "df.to_csv('tweets_cleaned.csv')"
   ]
  }
 ],
 "metadata": {
  "kernelspec": {
   "display_name": "Python 3",
   "language": "python",
   "name": "python3"
  },
  "language_info": {
   "codemirror_mode": {
    "name": "ipython",
    "version": 3
   },
   "file_extension": ".py",
   "mimetype": "text/x-python",
   "name": "python",
   "nbconvert_exporter": "python",
   "pygments_lexer": "ipython3",
   "version": "3.7.1"
  }
 },
 "nbformat": 4,
 "nbformat_minor": 2
}
