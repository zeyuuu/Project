{
 "cells": [
  {
   "cell_type": "markdown",
   "metadata": {},
   "source": [
    "# Exam Project: The formation of ISIS' Social Media Network\n",
    "Group members: Zeyu Zhao, Helge Zille, Edith Zink, Sina Smid\n",
    "\n",
    "# Functions"
   ]
  },
  {
   "cell_type": "code",
   "execution_count": 2,
   "metadata": {},
   "outputs": [],
   "source": [
    "def read_tweets(csv_file):\n",
    "    \"\"\" Function that reads in csv file\n",
    "    - csv file needs a 'time'-column with the date,time of the tweet\n",
    "    - removes indication of translation from tweets and adds a dummy-column indicating translated tweets\n",
    "    returns pandas Dataframe\n",
    "    \"\"\" \n",
    "    \n",
    "    df         = pd.read_csv(csv_file)\n",
    "    df['time'] = pd.to_datetime(df.time)\n",
    "    df['date'] = [datetime.datetime(x.year, x.month, x.day) for x in df.time]\n",
    "    df['translated'] = [tweet.startswith('ENGLISH') for tweet in df['tweets']]\n",
    "    df['tweets']     = df.tweets.apply(lambda x: re.sub(re.compile(\"ENGLISH TRANS[^:]*:\"),'',x))\n",
    "    \n",
    "    return df"
   ]
  },
  {
   "cell_type": "code",
   "execution_count": 3,
   "metadata": {},
   "outputs": [],
   "source": [
    "def actual_retweets(df):\n",
    "    \"\"\" Function that returns two dataframes:\n",
    "    1. one containing only retweets\n",
    "    2. one containing only (actual) tweets\n",
    "    \n",
    "    - tweets: column with tweets\n",
    "    \n",
    "    In the orginal dataframe retweets should be marked by 'RT.'\n",
    "    \"\"\"\n",
    "    df1 = df[df.tweets.str.startswith('RT')]\n",
    "    \n",
    "    df2 = df[df.tweets.str.startswith('RT')==0]\n",
    "      \n",
    "    return df1, df2"
   ]
  },
  {
   "cell_type": "code",
   "execution_count": 21,
   "metadata": {},
   "outputs": [],
   "source": [
    "def mentions(df):\n",
    "    \"\"\" Function that returns in-set and not-in-set mentions\n",
    "    - mention follow \"@\" in the tweet\n",
    "    - df.tweets: column containing tweets\n",
    "    - df.username: column with username\n",
    "    returns two np.arrays with username pairs for mentions within dataset and without.\n",
    "    \"\"\"\n",
    "    in_set = []\n",
    "    not_in_set = []\n",
    "    for user, tweet in zip(df['username'], df['tweets']):\n",
    "        match = re.findall(r'@\\w*', tweet)\n",
    "        \n",
    "        if match != []:\n",
    "            for name in match:\n",
    "                if (name[1:] in df['username'].unique()) and (user != name[1:]):\n",
    "                    in_set.append([user, name[1:]])\n",
    "                elif user != name[1:]:\n",
    "                    not_in_set.append([user, name[1:]])\n",
    "\n",
    "    in_set = np.array(in_set)\n",
    "    not_in_set = np.array(not_in_set)\n",
    "    \n",
    "    return in_set,  not_in_set"
   ]
  }
 ],
 "metadata": {
  "kernelspec": {
   "display_name": "Python 3",
   "language": "python",
   "name": "python3"
  },
  "language_info": {
   "codemirror_mode": {
    "name": "ipython",
    "version": 3
   },
   "file_extension": ".py",
   "mimetype": "text/x-python",
   "name": "python",
   "nbconvert_exporter": "python",
   "pygments_lexer": "ipython3",
   "version": "3.7.1"
  }
 },
 "nbformat": 4,
 "nbformat_minor": 2
}
